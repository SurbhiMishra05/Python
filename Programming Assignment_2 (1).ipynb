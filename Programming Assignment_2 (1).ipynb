{
 "cells": [
  {
   "cell_type": "markdown",
   "id": "08c66ea5",
   "metadata": {},
   "source": [
    "## Programming Assignment_2\n",
    "-------------"
   ]
  },
  {
   "cell_type": "markdown",
   "id": "4e50cf42",
   "metadata": {},
   "source": [
    "### 1. Write a Python program to convert kilometers to miles?\n"
   ]
  },
  {
   "cell_type": "code",
   "execution_count": 2,
   "id": "f16fb894",
   "metadata": {},
   "outputs": [
    {
     "name": "stdout",
     "output_type": "stream",
     "text": [
      "Kilometer:150\n",
      "Miles: 93.20567883562501\n"
     ]
    }
   ],
   "source": [
    "# Kilometer to Miles conversion \n",
    "for i in range(1):\n",
    "    Km = int(input(\"Kilometer:\"))  # Take input from the user \n",
    "    if Km < 0:\n",
    "         print(\"input valid value\")  # To avoid any negative value\n",
    "    else:\n",
    "        print(\"Miles:\" , (Km*0.6213711922375)) # to get the miles "
   ]
  },
  {
   "cell_type": "markdown",
   "id": "0df4e6bf",
   "metadata": {},
   "source": [
    "### 2.Write a Python program to convert Celsius to Fahrenheit?"
   ]
  },
  {
   "cell_type": "code",
   "execution_count": 3,
   "id": "578b4bed",
   "metadata": {},
   "outputs": [
    {
     "name": "stdout",
     "output_type": "stream",
     "text": [
      "Celsius: 40\n",
      "Fahrenheit: 104.0\n"
     ]
    }
   ],
   "source": [
    "# input for celsius\n",
    "celsius = int(input(\"Celsius: \"))\n",
    "\n",
    "# print the value \n",
    "print(\"Fahrenheit:\", (celsius*1.8) + 32)\n"
   ]
  },
  {
   "cell_type": "markdown",
   "id": "46129b8e",
   "metadata": {},
   "source": [
    "### 3. Write a Python program to display calendar?\n"
   ]
  },
  {
   "cell_type": "code",
   "execution_count": 4,
   "id": "a9ced46f",
   "metadata": {},
   "outputs": [
    {
     "name": "stdout",
     "output_type": "stream",
     "text": [
      "enter year: 2000\n",
      "enter month: 5\n",
      "      May 2000\n",
      "Mo Tu We Th Fr Sa Su\n",
      " 1  2  3  4  5  6  7\n",
      " 8  9 10 11 12 13 14\n",
      "15 16 17 18 19 20 21\n",
      "22 23 24 25 26 27 28\n",
      "29 30 31\n",
      "\n"
     ]
    }
   ],
   "source": [
    "# Import calender module\n",
    "import calendar\n",
    "\n",
    "# To take input of month and year from the user\n",
    "year = int(input(\"enter year: \"))\n",
    "month = int(input(\"enter month: \"))\n",
    "\n",
    "# To display the calender\n",
    "print(calendar.month(year,month))\n"
   ]
  },
  {
   "cell_type": "markdown",
   "id": "db2bf0f7",
   "metadata": {},
   "source": [
    "### 4. Write a Python program to solve quadratic equation?"
   ]
  },
  {
   "cell_type": "code",
   "execution_count": 1,
   "id": "9a4af831",
   "metadata": {},
   "outputs": [
    {
     "name": "stdout",
     "output_type": "stream",
     "text": [
      "The solution are (-3+0j) and (-2+0j)\n"
     ]
    }
   ],
   "source": [
    "# Solve the quadratic equation ax**2 + bx + c = 0\n",
    "\n",
    "# import complex math module\n",
    "import cmath\n",
    "\n",
    "a = 1\n",
    "b = 5\n",
    "c = 6\n",
    "\n",
    "# calculate the discriminant\n",
    "d = (b**2) - (4*a*c)\n",
    "\n",
    "# find two solutions\n",
    "sol1 = (-b-cmath.sqrt(d))/(2*a)\n",
    "sol2 = (-b+cmath.sqrt(d))/(2*a)\n",
    "\n",
    "print('The solution are {0} and {1}'.format(sol1,sol2))"
   ]
  },
  {
   "cell_type": "markdown",
   "id": "f70f74c9",
   "metadata": {},
   "source": [
    "### 5. Write a Python program to swap two variables without temp variable?"
   ]
  },
  {
   "cell_type": "code",
   "execution_count": 9,
   "id": "3ac009e0",
   "metadata": {},
   "outputs": [
    {
     "name": "stdout",
     "output_type": "stream",
     "text": [
      "Number 1 before swapping: 50\n",
      "Number 2 before swapping: 30\n",
      "\n",
      "Number 1 after swapping: 30\n",
      "Number 2 after swapping: 50\n"
     ]
    }
   ],
   "source": [
    "Num1 = 50\n",
    "Num2 = 30\n",
    "\n",
    "print(\"Number 1 before swapping:\", Num1)\n",
    "print(\"Number 2 before swapping:\", Num2)\n",
    "\n",
    "(Num1, Num2) = (Num2, Num1)\n",
    "\n",
    "print(\"\\nNumber 1 after swapping:\", Num1)\n",
    "print(\"Number 2 after swapping:\", Num2)"
   ]
  }
 ],
 "metadata": {
  "kernelspec": {
   "display_name": "Python 3 (ipykernel)",
   "language": "python",
   "name": "python3"
  },
  "language_info": {
   "codemirror_mode": {
    "name": "ipython",
    "version": 3
   },
   "file_extension": ".py",
   "mimetype": "text/x-python",
   "name": "python",
   "nbconvert_exporter": "python",
   "pygments_lexer": "ipython3",
   "version": "3.9.12"
  }
 },
 "nbformat": 4,
 "nbformat_minor": 5
}
