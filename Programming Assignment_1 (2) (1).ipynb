{
 "cells": [
  {
   "cell_type": "markdown",
   "id": "637b47a5",
   "metadata": {
    "id": "637b47a5"
   },
   "source": [
    "## Programming Assignment_1\n",
    "-------------"
   ]
  },
  {
   "cell_type": "markdown",
   "id": "0c647dbe",
   "metadata": {
    "id": "0c647dbe"
   },
   "source": [
    "### 1. Write a Python program to print \"Hello Python\"?"
   ]
  },
  {
   "cell_type": "code",
   "execution_count": 1,
   "id": "1b66640d-8344-47ec-bd26-7d5cd3067dc0",
   "metadata": {},
   "outputs": [
    {
     "name": "stdout",
     "output_type": "stream",
     "text": [
      "Hello Python\n"
     ]
    }
   ],
   "source": [
    "print(\"Hello Python\")"
   ]
  },
  {
   "cell_type": "markdown",
   "id": "fc18a6cd",
   "metadata": {
    "id": "fc18a6cd"
   },
   "source": [
    "### 2. Write a Python program to do arithmetical operations addition and division.?\n"
   ]
  },
  {
   "cell_type": "code",
   "execution_count": 16,
   "id": "43f68032-b32c-49b8-9d84-cfa7f7ab66d6",
   "metadata": {},
   "outputs": [
    {
     "name": "stdin",
     "output_type": "stream",
     "text": [
      "enter any value 9\n",
      "enter any value 7\n"
     ]
    },
    {
     "name": "stdout",
     "output_type": "stream",
     "text": [
      "addition: 16 \n",
      "division: 63\n"
     ]
    }
   ],
   "source": [
    "a = int(input(\"enter any value\"))\n",
    "b = int(input(\"enter any value\"))\n",
    "print(\"addition:\" ,a+b,\"\\ndivision:\" , a*b)"
   ]
  },
  {
   "cell_type": "markdown",
   "id": "af6e2429",
   "metadata": {
    "id": "af6e2429"
   },
   "source": [
    "### 3. Write a Python program to find the area of a triangle?\n"
   ]
  },
  {
   "cell_type": "code",
   "execution_count": 7,
   "id": "20827bb2-d8d7-42fd-b775-ef390b435b83",
   "metadata": {},
   "outputs": [
    {
     "name": "stdin",
     "output_type": "stream",
     "text": [
      "base of triangle: 6\n",
      "height of triangle: 5\n"
     ]
    },
    {
     "name": "stdout",
     "output_type": "stream",
     "text": [
      "15.0\n"
     ]
    }
   ],
   "source": [
    "base = int(input(\"base of triangle:\"))\n",
    "height = int(input(\"height of triangle:\"))\n",
    "print (1/2*base*height)"
   ]
  },
  {
   "cell_type": "markdown",
   "id": "b8140061",
   "metadata": {
    "id": "b8140061"
   },
   "source": [
    "### 4. Write a Python program to swap two variables?\n"
   ]
  },
  {
   "cell_type": "code",
   "execution_count": 19,
   "id": "74a39dad-e80a-426d-ade3-bec5a6d052a2",
   "metadata": {},
   "outputs": [
    {
     "name": "stdin",
     "output_type": "stream",
     "text": [
      "enter any value for a: 7\n",
      "enter any value for b: 8\n"
     ]
    },
    {
     "name": "stdout",
     "output_type": "stream",
     "text": [
      "value of a after swaping: 8 \n",
      "Value of b after swaping: 7\n"
     ]
    }
   ],
   "source": [
    "a = int(input(\"enter any value for a:\"))\n",
    "b = int(input(\"enter any value for b:\"))\n",
    "\n",
    "c = a\n",
    "a = b\n",
    "b = c\n",
    "\n",
    "print(\"value of a after swaping:\", a, \"\\nValue of b after swaping:\", b )\n"
   ]
  },
  {
   "cell_type": "markdown",
   "id": "3f8054c1",
   "metadata": {
    "id": "3f8054c1"
   },
   "source": [
    "### 5. Write a Python program to generate a random number?\n"
   ]
  },
  {
   "cell_type": "code",
   "execution_count": 27,
   "id": "a85fb8f5-ef3f-4567-8955-b0a7466afbec",
   "metadata": {},
   "outputs": [
    {
     "name": "stdin",
     "output_type": "stream",
     "text": [
      "enter the starting no. of the range: 3\n",
      "enter the ending no. of the range: 80\n"
     ]
    },
    {
     "name": "stdout",
     "output_type": "stream",
     "text": [
      "39\n"
     ]
    }
   ],
   "source": [
    "import random\n",
    "\n",
    "i = int(input(\"enter the starting no. of the range:\"))\n",
    "n = int(input(\"enter the ending no. of the range:\"))\n",
    "\n",
    "number = random.randint(i,n)\n",
    "print(number)"
   ]
  }
 ],
 "metadata": {
  "colab": {
   "provenance": []
  },
  "kernelspec": {
   "display_name": "Python 3 (ipykernel)",
   "language": "python",
   "name": "python3"
  },
  "language_info": {
   "codemirror_mode": {
    "name": "ipython",
    "version": 3
   },
   "file_extension": ".py",
   "mimetype": "text/x-python",
   "name": "python",
   "nbconvert_exporter": "python",
   "pygments_lexer": "ipython3",
   "version": "3.9.12"
  }
 },
 "nbformat": 4,
 "nbformat_minor": 5
}
